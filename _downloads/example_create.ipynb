{
  "cells": [
    {
      "cell_type": "code",
      "execution_count": null,
      "metadata": {
        "collapsed": false
      },
      "outputs": [],
      "source": [
        "%matplotlib inline"
      ]
    },
    {
      "cell_type": "markdown",
      "metadata": {},
      "source": [
        "\n# Simple package create\n\n\n\nIt's unlikely you'd create a new package from within a Python script, but here\nis an example of how you can leverage the package internals for exactly that\npurpose.\n\n.. raw:: html\n\n   <br/>\n\n"
      ]
    },
    {
      "cell_type": "code",
      "execution_count": null,
      "metadata": {
        "collapsed": false
      },
      "outputs": [],
      "source": [
        "print(__doc__)\n\n# Author: Taylor Smith <taylor.smith@alkaline-ml.com>\n\nfrom bear.core import create\nimport bear\nimport datetime\nfrom os.path import join\nimport os\n\n# Attrs of the bear package\nbear_location = bear.package_location()\nbear_version = bear.__version__\nyear = str(datetime.datetime.now().year)\n\n# Attrs of the TEST package we want to create\nproject_path = \"bear_test_project_dir\"\npackage_name = \"bear_test\"\npath = join(project_path, package_name)\nauthor = \"Fake Authorman\"\nemail = \"some_email@fake.com\"\npython = \"3.5\"\ngit_user = \"fakegituser\"\nlic = \"MIT\"\ndescription = \"This is a test pkg\"\n\n# Call the make package (but only on Circle)\nif os.environ.get(\"BUILD_EXAMPLES\", \"false\") == \"true\":\n    create.make_package(header=\"File header\", bear_location=bear_location,\n                        bear_version=bear_version, author=author,\n                        description=description, email=email,\n                        git_user=git_user, license=lic, name=package_name,\n                        path=path, python=python, requirements=\"numpy\",\n                        version=\"1.0.0\", c=False, verbose=True, circle=True,\n                        travis=True, submodules=\"utils\")"
      ]
    }
  ],
  "metadata": {
    "kernelspec": {
      "display_name": "Python 3",
      "language": "python",
      "name": "python3"
    },
    "language_info": {
      "codemirror_mode": {
        "name": "ipython",
        "version": 3
      },
      "file_extension": ".py",
      "mimetype": "text/x-python",
      "name": "python",
      "nbconvert_exporter": "python",
      "pygments_lexer": "ipython3",
      "version": "3.6.7"
    }
  },
  "nbformat": 4,
  "nbformat_minor": 0
}